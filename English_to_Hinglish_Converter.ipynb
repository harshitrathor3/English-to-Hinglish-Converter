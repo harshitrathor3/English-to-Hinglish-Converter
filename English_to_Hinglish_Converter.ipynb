{
  "cells": [
    {
      "cell_type": "markdown",
      "metadata": {
        "id": "o6r476FVUOJL"
      },
      "source": [
        "## Installing required libaries"
      ]
    },
    {
      "cell_type": "code",
      "execution_count": null,
      "metadata": {
        "id": "FYqKcuXV1r5h"
      },
      "outputs": [],
      "source": [
        "!pip install googletrans==3.1.0a0\n",
        "!pip install spacy\n",
        "!python -m spacy download en_core_web_sm"
      ]
    },
    {
      "cell_type": "markdown",
      "source": [
        "## Initial Setup of Code"
      ],
      "metadata": {
        "id": "Yse5lH28kBm_"
      }
    },
    {
      "cell_type": "code",
      "execution_count": 12,
      "metadata": {
        "id": "gPjpXFM7UQt8"
      },
      "outputs": [],
      "source": [
        "# it translates english to hindi and vice-versa\n",
        "from googletrans import Translator\n",
        "\n",
        "# it analyzes the parts of speech of english\n",
        "import spacy"
      ]
    },
    {
      "cell_type": "code",
      "execution_count": 13,
      "metadata": {
        "id": "_YL0yqZhUUGk"
      },
      "outputs": [],
      "source": [
        "# object of googletrans\n",
        "translator = Translator()\n",
        "\n",
        "# load the English language model\n",
        "nlp = spacy.load(\"en_core_web_sm\")"
      ]
    },
    {
      "cell_type": "markdown",
      "source": [
        "## Our required function"
      ],
      "metadata": {
        "id": "xlpIBWdAkIPX"
      }
    },
    {
      "cell_type": "code",
      "execution_count": 94,
      "metadata": {
        "id": "DzBvSt3fUXXY"
      },
      "outputs": [],
      "source": [
        "def convert_english_to_hinglish(sentence):\n",
        "  out = translator.translate(sentence, dest='hi')\n",
        "  ans = out.text.split()\n",
        "  s = \"\"\n",
        "  last_eng = -1\n",
        "  for i in range(len(ans)):\n",
        "    eng_word = translator.translate(ans[i], dest='en').text\n",
        "    sense = nlp(eng_word)[0].pos_\n",
        "\n",
        "    if sense=='NOUN' and len(ans[i])>3:\n",
        "      s = s + eng_word + ' '\n",
        "      last_eng=i\n",
        "    elif i-last_eng>1 and len(ans[i])>2:\n",
        "      if sense==\"ADJ\" or sense=='NOUN' or sense=='CONJ' or sense=='PROPN':\n",
        "        last_eng = i\n",
        "        s = s + eng_word + ' '\n",
        "      else:\n",
        "        s = s + ans[i] + ' '\n",
        "    else:\n",
        "      s = s + ans[i] + ' '\n",
        "  return s[:-1]"
      ]
    },
    {
      "cell_type": "markdown",
      "source": [
        "## Trying out our english to hinglish function with different sentences"
      ],
      "metadata": {
        "id": "XvE5W1C2kLTX"
      }
    },
    {
      "cell_type": "code",
      "source": [
        "sent = 'I had about a 30 minute demo just using this new headset'\n",
        "print(sent)\n",
        "hinglish = convert_english_to_hinglish(sent)\n",
        "print(hinglish)"
      ],
      "metadata": {
        "colab": {
          "base_uri": "https://localhost:8080/"
        },
        "id": "WsybH0JOX9uV",
        "outputId": "7636c48d-b05f-48e0-e66f-197974bfcb7b"
      },
      "execution_count": 95,
      "outputs": [
        {
          "output_type": "stream",
          "name": "stdout",
          "text": [
            "I had about a 30 minute demo just using this new headset\n",
            "मैंने इस नए headset का उपयोग करके लगभग 30 minutes का demo लिया\n"
          ]
        }
      ]
    },
    {
      "cell_type": "code",
      "source": [
        "sent = 'Definitely share your feedback in the comment section.'\n",
        "print(sent)\n",
        "hinglish = convert_english_to_hinglish(sent)\n",
        "print(hinglish)\n"
      ],
      "metadata": {
        "colab": {
          "base_uri": "https://localhost:8080/"
        },
        "id": "OxkqW2noZbLQ",
        "outputId": "95d7efdc-f147-45d5-a450-f0f2e7f82b69"
      },
      "execution_count": 96,
      "outputs": [
        {
          "output_type": "stream",
          "name": "stdout",
          "text": [
            "Definitely share your feedback in the comment section.\n",
            "अपनी feedback Comment section में अवश्य साझा करें।\n"
          ]
        }
      ]
    },
    {
      "cell_type": "code",
      "source": [
        "sent = \"So even if it's a big video, I will clearly mention all the products\"\n",
        "print(sent)\n",
        "hinglish = convert_english_to_hinglish(sent)\n",
        "print(hinglish)\n"
      ],
      "metadata": {
        "colab": {
          "base_uri": "https://localhost:8080/"
        },
        "id": "-m27bPqraptF",
        "outputId": "7c0839da-6667-4046-9164-de1cb7805d0b"
      },
      "execution_count": 97,
      "outputs": [
        {
          "output_type": "stream",
          "name": "stdout",
          "text": [
            "So even if it's a big video, I will clearly mention all the products\n",
            "इसलिए भले ही यह एक Big Video हो, मैं Clear रूप से सभी products का उल्लेख करूंगा\n"
          ]
        }
      ]
    },
    {
      "cell_type": "code",
      "source": [
        "sent = 'I was waiting for my bag.'\n",
        "print(sent)\n",
        "hinglish = convert_english_to_hinglish(sent)\n",
        "print(hinglish)\n"
      ],
      "metadata": {
        "colab": {
          "base_uri": "https://localhost:8080/"
        },
        "id": "D2uNgVLfa_2G",
        "outputId": "1d548c38-0cc4-439b-d292-b895e7ff77ea"
      },
      "execution_count": 98,
      "outputs": [
        {
          "output_type": "stream",
          "name": "stdout",
          "text": [
            "I was waiting for my bag.\n",
            "मैं अपने Bag का इंतज़ार कर रहा था.\n"
          ]
        }
      ]
    },
    {
      "cell_type": "code",
      "source": [
        "sent = 'The beautiful sunset painted the sky with shades of orange and pink, while the waves gently kissed the sandy shore, creating a serene and captivating scene for all to enjoy.'\n",
        "print(sent)\n",
        "hinglish = convert_english_to_hinglish(sent)\n",
        "print(hinglish)"
      ],
      "metadata": {
        "colab": {
          "base_uri": "https://localhost:8080/"
        },
        "id": "4r9dfaMumm2h",
        "outputId": "cbb70c94-bf90-44d3-c0e6-327ddbe69898"
      },
      "execution_count": 99,
      "outputs": [
        {
          "output_type": "stream",
          "name": "stdout",
          "text": [
            "The beautiful sunset painted the sky with shades of orange and pink, while the waves gently kissed the sandy shore, creating a serene and captivating scene for all to enjoy.\n",
            "सुंदर sunset ने आकाश को orange और गुलाबी colors से Colour दिया, जबकि waves धीरे-धीरे sandy तट को चूम रही थीं, जिससे सभी के happiness लेने के लिए एक quiet और मनोरम Scene तैयार हो गया।\n"
          ]
        }
      ]
    },
    {
      "cell_type": "code",
      "source": [
        "sent = 'After a long day at work, she returned home to her cozy, book-filled apartment, where the aroma of freshly brewed coffee and the sound of rain outside welcomed her with warmth and comfort.'\n",
        "print(sent)\n",
        "hinglish = convert_english_to_hinglish(sent)\n",
        "print(hinglish)"
      ],
      "metadata": {
        "colab": {
          "base_uri": "https://localhost:8080/"
        },
        "id": "tLEsmUymodJ6",
        "outputId": "112fe3ba-c319-48ab-a3e0-e7c3aff3902b"
      },
      "execution_count": 100,
      "outputs": [
        {
          "output_type": "stream",
          "name": "stdout",
          "text": [
            "After a long day at work, she returned home to her cozy, book-filled apartment, where the aroma of freshly brewed coffee and the sound of rain outside welcomed her with warmth and comfort.\n",
            "काम पर एक लंबे Day के बाद, वह अपने comfortable, books से भरे Apartment में घर लौट आई, जहां fresh बनी Coffee की fragrance और बाहर Rain की आवाज़ ने warmth और आराम से उसका स्वागत किया।\n"
          ]
        }
      ]
    },
    {
      "cell_type": "code",
      "source": [
        "sent = 'The serene beach at sunset painted a breathtaking, vivid, and vibrant scene, with the golden sun dipping below the horizon, casting a warm glow over the tranquil waves, while seagulls soared gracefully in the crimson sky.'\n",
        "print(sent)\n",
        "hinglish = convert_english_to_hinglish(sent)\n",
        "print(hinglish)"
      ],
      "metadata": {
        "colab": {
          "base_uri": "https://localhost:8080/"
        },
        "id": "QDnyI0LSpAg2",
        "outputId": "938ab561-888f-46b3-af2a-e2903db01a94"
      },
      "execution_count": 93,
      "outputs": [
        {
          "output_type": "stream",
          "name": "stdout",
          "text": [
            "The serene beach at sunset painted a breathtaking, vivid, and vibrant scene, with the golden sun dipping below the horizon, casting a warm glow over the tranquil waves, while seagulls soared gracefully in the crimson sky.\n",
            "sunset के Time शांत Sea तट पर एक gorgeous, ज्वलंत और lively Scene चित्रित हुआ, जिसमें golden सूरज horizon के Below डूब रहा था, quiet waves पर एक warm चमक बिखेर रहा था, जबकि seagull लाल आकाश में beauty से उड़ रहे थे।\n"
          ]
        }
      ]
    },
    {
      "cell_type": "markdown",
      "source": [
        "# Feel free to write your own sentences here and try them out"
      ],
      "metadata": {
        "id": "e6MlTVLdsYp1"
      }
    },
    {
      "cell_type": "code",
      "source": [
        "sent = \"YOUR SENTENCE GOES HERE\" # pls enter your sentence in this variable\n",
        "hinglish = convert_english_to_hinglish(sent)\n",
        "print(hinglish)"
      ],
      "metadata": {
        "id": "WHT0hWLkpO24"
      },
      "execution_count": 100,
      "outputs": []
    },
    {
      "cell_type": "code",
      "source": [
        "sent = \"YOUR SENTENCE GOES HERE\" # pls enter your sentence in this variable\n",
        "hinglish = convert_english_to_hinglish(sent)\n",
        "print(hinglish)"
      ],
      "metadata": {
        "id": "ybZrvywRslhu"
      },
      "execution_count": null,
      "outputs": []
    },
    {
      "cell_type": "code",
      "source": [
        "sent = \"YOUR SENTENCE GOES HERE\" # pls enter your sentence in this variable\n",
        "hinglish = convert_english_to_hinglish(sent)\n",
        "print(hinglish)"
      ],
      "metadata": {
        "id": "Qo3H2NcFsl7g"
      },
      "execution_count": null,
      "outputs": []
    },
    {
      "cell_type": "code",
      "source": [
        "sent = \"YOUR SENTENCE GOES HERE\" # pls enter your sentence in this variable\n",
        "hinglish = convert_english_to_hinglish(sent)\n",
        "print(hinglish)"
      ],
      "metadata": {
        "id": "dAK1C2ABsmS4"
      },
      "execution_count": null,
      "outputs": []
    },
    {
      "cell_type": "code",
      "source": [
        "sent = \"YOUR SENTENCE GOES HERE\" # pls enter your sentence in this variable\n",
        "hinglish = convert_english_to_hinglish(sent)\n",
        "print(hinglish)"
      ],
      "metadata": {
        "id": "ZN1HdWR4smnk"
      },
      "execution_count": null,
      "outputs": []
    }
  ],
  "metadata": {
    "colab": {
      "provenance": []
    },
    "kernelspec": {
      "display_name": "Python 3",
      "name": "python3"
    },
    "language_info": {
      "name": "python"
    }
  },
  "nbformat": 4,
  "nbformat_minor": 0
}